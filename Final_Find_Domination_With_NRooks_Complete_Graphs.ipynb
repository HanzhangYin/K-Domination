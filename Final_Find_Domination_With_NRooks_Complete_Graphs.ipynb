{
  "cells": [
    {
      "cell_type": "markdown",
      "metadata": {
        "id": "view-in-github",
        "colab_type": "text"
      },
      "source": [
        "<a href=\"https://colab.research.google.com/github/HanzhangYin/K-Domination/blob/main/Final_Find_Domination_With_NRooks_Complete_Graphs.ipynb\" target=\"_parent\"><img src=\"https://colab.research.google.com/assets/colab-badge.svg\" alt=\"Open In Colab\"/></a>"
      ]
    },
    {
      "cell_type": "code",
      "execution_count": null,
      "metadata": {
        "id": "1JY2IXsa4v1o"
      },
      "outputs": [],
      "source": [
        "import numpy as np"
      ]
    },
    {
      "cell_type": "markdown",
      "metadata": {
        "id": "tJ7M5sXkqUCh"
      },
      "source": [
        "## Define $K_n$ and $K_m$ and Input the number of Rooks."
      ]
    },
    {
      "cell_type": "code",
      "execution_count": null,
      "metadata": {
        "id": "04GlWgw0JIRd",
        "outputId": "628afb01-61ee-4ceb-f579-8faab0bdec52",
        "colab": {
          "base_uri": "https://localhost:8080/",
          "height": 134
        }
      },
      "outputs": [
        {
          "output_type": "error",
          "ename": "SyntaxError",
          "evalue": "ignored",
          "traceback": [
            "\u001b[0;36m  File \u001b[0;32m\"<ipython-input-2-45d0a6b1f210>\"\u001b[0;36m, line \u001b[0;32m1\u001b[0m\n\u001b[0;31m    n =\u001b[0m\n\u001b[0m        ^\u001b[0m\n\u001b[0;31mSyntaxError\u001b[0m\u001b[0;31m:\u001b[0m invalid syntax\n"
          ]
        }
      ],
      "source": [
        "n = \n",
        "m = \n",
        "rooks_num = \n",
        "degree = n*m"
      ]
    },
    {
      "cell_type": "markdown",
      "metadata": {
        "id": "o94D85HzsAku"
      },
      "source": [
        "\n",
        "\n",
        "## Calculate $K_n\\Box K_m$\n"
      ]
    },
    {
      "cell_type": "code",
      "execution_count": null,
      "metadata": {
        "id": "2nfip9zOG7SA"
      },
      "outputs": [],
      "source": [
        "I_n = np.identity(n,dtype=int)\n",
        "K_n = np.ones((n,n), dtype=int) - I_n\n",
        "I_m = np.identity(m,dtype=int)\n",
        "K_m = np.ones((m,m), dtype=int) - I_m\n",
        "A = np.tensordot(K_n, I_m, axes=0)\n",
        "B = np.tensordot(I_n, K_m, axes=0)\n",
        "C = A+B\n",
        "D = np.hstack(C[0])\n",
        "for i in list(range(n-1)):\n",
        "  D = np.vstack((D, np.hstack(C[i+1])))\n",
        "print(D)\n",
        "print(\"The Cartesian product of complete graphs is {}\".format(D.shape))"
      ]
    },
    {
      "cell_type": "markdown",
      "metadata": {
        "id": "ZWAjCA5xsN2a"
      },
      "source": [
        "## Find Combinations"
      ]
    },
    {
      "cell_type": "code",
      "execution_count": null,
      "metadata": {
        "id": "Qe9QoHYf6IiH"
      },
      "outputs": [],
      "source": [
        "def combs(a):\n",
        "    if len(a) == 0:\n",
        "        return [[]]\n",
        "    cs = []\n",
        "    for c in combs(a[1:]):\n",
        "        cs += [c, c+[a[0]]]\n",
        "    return cs"
      ]
    },
    {
      "cell_type": "code",
      "execution_count": null,
      "metadata": {
        "colab": {
          "base_uri": "https://localhost:8080/",
          "height": 244
        },
        "id": "RESqSrjn6Ku5",
        "outputId": "4abb2e83-a8f5-45cd-e3f9-458ddb59fe83"
      },
      "outputs": [
        {
          "output_type": "error",
          "ename": "NameError",
          "evalue": "ignored",
          "traceback": [
            "\u001b[0;31m---------------------------------------------------------------------------\u001b[0m",
            "\u001b[0;31mNameError\u001b[0m                                 Traceback (most recent call last)",
            "\u001b[0;32m<ipython-input-4-d074ecb2002d>\u001b[0m in \u001b[0;36m<module>\u001b[0;34m\u001b[0m\n\u001b[0;32m----> 1\u001b[0;31m \u001b[0mS\u001b[0m \u001b[0;34m=\u001b[0m \u001b[0mcombs\u001b[0m\u001b[0;34m(\u001b[0m\u001b[0mlist\u001b[0m\u001b[0;34m(\u001b[0m\u001b[0mrange\u001b[0m\u001b[0;34m(\u001b[0m\u001b[0mdegree\u001b[0m\u001b[0;34m)\u001b[0m\u001b[0;34m)\u001b[0m\u001b[0;34m)\u001b[0m\u001b[0;34m\u001b[0m\u001b[0;34m\u001b[0m\u001b[0m\n\u001b[0m\u001b[1;32m      2\u001b[0m \u001b[0mB\u001b[0m \u001b[0;34m=\u001b[0m \u001b[0;34m[\u001b[0m\u001b[0;34m]\u001b[0m\u001b[0;34m\u001b[0m\u001b[0;34m\u001b[0m\u001b[0m\n\u001b[1;32m      3\u001b[0m \u001b[0mK\u001b[0m \u001b[0;34m=\u001b[0m \u001b[0;34m(\u001b[0m\u001b[0;34m)\u001b[0m\u001b[0;34m\u001b[0m\u001b[0;34m\u001b[0m\u001b[0m\n\u001b[1;32m      4\u001b[0m \u001b[0;32mfor\u001b[0m \u001b[0my\u001b[0m \u001b[0;32min\u001b[0m \u001b[0mS\u001b[0m\u001b[0;34m:\u001b[0m\u001b[0;34m\u001b[0m\u001b[0;34m\u001b[0m\u001b[0m\n\u001b[1;32m      5\u001b[0m   \u001b[0;32mif\u001b[0m \u001b[0mlen\u001b[0m\u001b[0;34m(\u001b[0m\u001b[0my\u001b[0m\u001b[0;34m)\u001b[0m \u001b[0;34m==\u001b[0m \u001b[0mrooks_num\u001b[0m\u001b[0;34m:\u001b[0m\u001b[0;34m\u001b[0m\u001b[0;34m\u001b[0m\u001b[0m\n",
            "\u001b[0;31mNameError\u001b[0m: name 'degree' is not defined"
          ]
        }
      ],
      "source": [
        "S = combs(list(range(degree)))\n",
        "B = []\n",
        "K = ()\n",
        "for y in S:\n",
        "  if len(y) == rooks_num:\n",
        "    B.append(y)\n",
        "print(B)"
      ]
    },
    {
      "cell_type": "markdown",
      "metadata": {
        "id": "prGRituItlMC"
      },
      "source": [
        "## Find the domiantion the rooks can do."
      ]
    },
    {
      "cell_type": "code",
      "execution_count": null,
      "metadata": {
        "id": "RUPtr95K9mCn"
      },
      "outputs": [],
      "source": [
        "P = []\n",
        "for h in B:\n",
        "  A_out = [[0] * degree]\n",
        "  for k in h:\n",
        "    A_i = D[k, np.r_[0:degree]]\n",
        "    A_out = np.add(A_out, A_i)\n",
        "  for k in h:\n",
        "    A_out = np.delete(A_out, k)\n",
        "  #print(A_out)\n",
        "  #print(np.min(A_out))\n",
        "  P.append(min(A_out))\n",
        "print(\"{} Rooks can do {} dominating.\".format(rooks_num,max(P)))"
      ]
    },
    {
      "cell_type": "code",
      "source": [
        "O = []\n",
        "for h in B:\n",
        "  B_out = [[0] * degree]\n",
        "  for k in h:\n",
        "    B_i = D[k, np.r_[0:degree]]\n",
        "    B_out = np.add(B_out, B_i)\n",
        "  for k in h:\n",
        "    B_out = np.delete(B_out, k)\n",
        "  if min(B_out) == max(P):\n",
        "    O.append(np.sort(h))\n",
        "for t in O:\n",
        "  a = [*range(0, degree, 1)]\n",
        "  for i in range(m):\n",
        "    for i in t:\n",
        "      a[i] = degree\n",
        "    for i in range(degree):\n",
        "      if a[i] == degree:\n",
        "        a[i] = 1\n",
        "      else:\n",
        "        a[i] = 0\n",
        "  #print(a)\n",
        "  r=[]\n",
        "  for i in range(n):\n",
        "    r.append(a[0+m*i:m+m*i])\n",
        "  v = np.array(r)\n",
        "  print(v)"
      ],
      "metadata": {
        "id": "69dZpZT8zgah"
      },
      "execution_count": null,
      "outputs": []
    }
  ],
  "metadata": {
    "colab": {
      "provenance": [],
      "authorship_tag": "ABX9TyPd1G6fZ7hNqY3qlB0akoP8",
      "include_colab_link": true
    },
    "kernelspec": {
      "display_name": "Python 3",
      "name": "python3"
    },
    "language_info": {
      "name": "python"
    }
  },
  "nbformat": 4,
  "nbformat_minor": 0
}